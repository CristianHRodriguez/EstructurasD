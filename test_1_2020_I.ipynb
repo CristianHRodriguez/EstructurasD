{
  "nbformat": 4,
  "nbformat_minor": 0,
  "metadata": {
    "colab": {
      "name": "test_1_2020-I.ipynb",
      "provenance": [],
      "collapsed_sections": [],
      "include_colab_link": true
    },
    "kernelspec": {
      "name": "python3",
      "display_name": "Python 3"
    }
  },
  "cells": [
    {
      "cell_type": "markdown",
      "metadata": {
        "id": "view-in-github",
        "colab_type": "text"
      },
      "source": [
        "<a href=\"https://colab.research.google.com/github/CristianHRodriguez/EstructurasD/blob/master/test_1_2020_I.ipynb\" target=\"_parent\"><img src=\"https://colab.research.google.com/assets/colab-badge.svg\" alt=\"Open In Colab\"/></a>"
      ]
    },
    {
      "cell_type": "markdown",
      "metadata": {
        "id": "JD8yhBo6pezz",
        "colab_type": "text"
      },
      "source": [
        "# 1er Parcial - Estructuras de Datos\n",
        "\n",
        "Lineamientos:\n",
        "\n",
        "* El parcial es individual, por ningún motivo usted puede usar el código creado por otra persona. De encontrarse similitudes de su código con otro su nota del examen será 0, a menos que demuestre su autoría.\n",
        "\n",
        "* Su objetivo es comunicar, si su respuesta a las preguntas no es claro su nota será 0 para este punto.\n",
        "\n",
        "* Al entregar este parcial usted garantiza que las respuestas aquí consignadas fueron totalmente de su autoría y no recibió ningún tipo de ayuda de otra persona.\n",
        "\n",
        "\n",
        "Registre su nombre y código a continuación:\n",
        "\n",
        "**Nombre:** C\n",
        "\n",
        "**Código:**\n",
        "\n",
        "---"
      ]
    },
    {
      "cell_type": "markdown",
      "metadata": {
        "id": "MVHofYlesdKm",
        "colab_type": "text"
      },
      "source": [
        "## Ejercicio 1 (50%)\n",
        "\n",
        "Diseñe un algoritmo que lea una secuencia $x$ de parentesis (, ), {, }, [, ] codificados en un string y determine si es una secuencia de parentesis balanceados, e.g. [()()]{}.\n",
        "\n",
        "\n",
        "Su algoritmo solo puede utilizar las operaciones de una pila:\n",
        "\n",
        "* ``append()`` para agregar un elemento a la pila.\n",
        "* ``pop()`` para remover un elemento de la pila.\n",
        "* Consultar si la pila esta vacía, e.g.\n",
        "\n",
        "```\n",
        "if len(stack) == 0:\n",
        "   print('stack is empty')\n",
        "```\n",
        "\n",
        "En ningún momento el algoritmo debe recorrer la secuencia, consultar cuantos elementos tiene o contar los elementos.\n",
        "\n",
        "Ejemplos:\n",
        "\n",
        "```\n",
        "Input: \"[()()]{}\"\n",
        "Output: Balanceado\n",
        "```\n",
        "\n",
        "```\n",
        "Input: \")(\"\n",
        "Output: Desbalanceado\n",
        "```\n",
        "\n",
        "```\n",
        "Input: \"[)[]\"\n",
        "Output: Desbalanceado\n",
        "```\n",
        "\n"
      ]
    },
    {
      "cell_type": "code",
      "metadata": {
        "id": "n00TWu1zpM7H",
        "colab_type": "code",
        "colab": {}
      },
      "source": [
        "def check_sequence(stack):\n",
        "  #Implemente su código en esta función\n",
        "  pass"
      ],
      "execution_count": 0,
      "outputs": []
    },
    {
      "cell_type": "code",
      "metadata": {
        "id": "MsY_eVXVU_Id",
        "colab_type": "code",
        "outputId": "30cb2c0a-cf20-4a43-a864-f999610c8933",
        "colab": {
          "base_uri": "https://localhost:8080/",
          "height": 52
        }
      },
      "source": [
        "seq = \"{[]{()}}\"\n",
        "print(seq,\"-\", check_sequence(seq)) \n",
        "  \n",
        "seq = \"[{}{})(]\"\n",
        "print(seq,\"-\", check_sequence(seq)) \n"
      ],
      "execution_count": 0,
      "outputs": [
        {
          "output_type": "stream",
          "text": [
            "{[]{()}} - Balanceado\n",
            "[{}{})(] - Desbalanceado\n"
          ],
          "name": "stdout"
        }
      ]
    },
    {
      "cell_type": "markdown",
      "metadata": {
        "id": "1wxtLkRA2sZO",
        "colab_type": "text"
      },
      "source": [
        "## Ejercicio 2 (50%)\n",
        "\n",
        "Implemente el algoritmo de ordenamiento por mezclas (merge sort) donde el problema sea dividido en 3 sub problemas "
      ]
    }
  ]
}